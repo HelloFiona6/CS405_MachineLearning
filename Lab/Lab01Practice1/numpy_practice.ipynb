{
 "cells": [
  {
   "attachments": {},
   "cell_type": "markdown",
   "metadata": {},
   "source": [
    "# NumPy Exercise"
   ]
  },
  {
   "cell_type": "code",
   "execution_count": 2,
   "metadata": {},
   "outputs": [],
   "source": [
    "\n",
    "import numpy as np\n",
    "    "
   ]
  },
  {
   "cell_type": "markdown",
   "metadata": {},
   "source": [
    "### 1. Array creation and basic operations"
   ]
  },
  {
   "cell_type": "code",
   "execution_count": 13,
   "metadata": {},
   "outputs": [
    {
     "name": "stdout",
     "output_type": "stream",
     "text": [
      "[[79 58 97 24 49 34 12 24 46 28]\n",
      " [47 56 17 82 17 61 20 39 24 55]\n",
      " [65 42 77  8 54 51 63 33 15 57]\n",
      " [89 32 59 53 11 92  8 56 41 31]\n",
      " [12 84 89 86  4 32 28 21 47 81]\n",
      " [45 58 68 85 52 90 30  8  3 71]\n",
      " [76 33 20 35 23 89 45 74 46 88]\n",
      " [73 28 34 43 97 97 90 81 73 75]\n",
      " [ 2  9  9 17 37 63 36 33 16 40]\n",
      " [80 36 94 79 13 23 49 14 62 46]]\n"
     ]
    }
   ],
   "source": [
    "\n",
    "# (1) Create a 10x10 random array with values between 0 and 100 (int)\n",
    "arr = np.random.randint(0,101,dtype=int,size=(10,10))\n",
    "print(arr)\n",
    "    "
   ]
  },
  {
   "cell_type": "code",
   "execution_count": 14,
   "metadata": {},
   "outputs": [
    {
     "name": "stdout",
     "output_type": "stream",
     "text": [
      "Min: 2 Max: 97 Mean: 47.78\n"
     ]
    }
   ],
   "source": [
    "\n",
    "# (2) Calculate the minimum, maximum, and mean of the array\n",
    "min_value = arr.min()   # Minimum value\n",
    "max_value = arr.max()    # Maximum value\n",
    "mean_value = arr.mean()  # Mean value\n",
    "\n",
    "print(\"Min:\", min_value, \"Max:\", max_value, \"Mean:\", mean_value)\n",
    "    "
   ]
  },
  {
   "cell_type": "code",
   "execution_count": 15,
   "metadata": {},
   "outputs": [
    {
     "name": "stdout",
     "output_type": "stream",
     "text": [
      "Row sum: [451 418 465 472 484 510 529 691 262 496]\n",
      "Column sum: [568 436 564 512 357 632 381 383 373 572]\n"
     ]
    }
   ],
   "source": [
    "\n",
    "# (3) Compute the sum of the array along rows or columns\n",
    "row_sum = arr.sum(axis=1)  # Sum along rows\n",
    "col_sum = arr.sum(axis=0)  # Sum along columns\n",
    "\n",
    "print(\"Row sum:\", row_sum)\n",
    "print(\"Column sum:\", col_sum)\n",
    "    "
   ]
  },
  {
   "attachments": {},
   "cell_type": "markdown",
   "metadata": {},
   "source": [
    "### 2. Array reshaping and merging"
   ]
  },
  {
   "cell_type": "code",
   "execution_count": 16,
   "metadata": {},
   "outputs": [
    {
     "name": "stdout",
     "output_type": "stream",
     "text": [
      "Reshaped array: [[79 58 97 24 49 34 12 24 46 28 47 56 17 82 17 61 20 39 24 55]\n",
      " [65 42 77  8 54 51 63 33 15 57 89 32 59 53 11 92  8 56 41 31]\n",
      " [12 84 89 86  4 32 28 21 47 81 45 58 68 85 52 90 30  8  3 71]\n",
      " [76 33 20 35 23 89 45 74 46 88 73 28 34 43 97 97 90 81 73 75]\n",
      " [ 2  9  9 17 37 63 36 33 16 40 80 36 94 79 13 23 49 14 62 46]]\n"
     ]
    }
   ],
   "source": [
    "\n",
    "# (1) Reshape the array into a 5x20 array\n",
    "reshaped_array = arr.reshape(5, 20)\n",
    "print(\"Reshaped array:\", reshaped_array)\n",
    "    "
   ]
  },
  {
   "cell_type": "code",
   "execution_count": 20,
   "metadata": {},
   "outputs": [
    {
     "name": "stdout",
     "output_type": "stream",
     "text": [
      "New array: [[1. 1. 1. 1. 1. 1. 1. 1. 1. 1. 1. 1. 1. 1. 1. 1. 1. 1. 1. 1.]]\n",
      "Concatenated array: [[79. 58. 97. 24. 49. 34. 12. 24. 46. 28. 47. 56. 17. 82. 17. 61. 20. 39.\n",
      "  24. 55.]\n",
      " [65. 42. 77.  8. 54. 51. 63. 33. 15. 57. 89. 32. 59. 53. 11. 92.  8. 56.\n",
      "  41. 31.]\n",
      " [12. 84. 89. 86.  4. 32. 28. 21. 47. 81. 45. 58. 68. 85. 52. 90. 30.  8.\n",
      "   3. 71.]\n",
      " [76. 33. 20. 35. 23. 89. 45. 74. 46. 88. 73. 28. 34. 43. 97. 97. 90. 81.\n",
      "  73. 75.]\n",
      " [ 2.  9.  9. 17. 37. 63. 36. 33. 16. 40. 80. 36. 94. 79. 13. 23. 49. 14.\n",
      "  62. 46.]\n",
      " [ 1.  1.  1.  1.  1.  1.  1.  1.  1.  1.  1.  1.  1.  1.  1.  1.  1.  1.\n",
      "   1.  1.]]\n"
     ]
    }
   ],
   "source": [
    "\n",
    "# (2) Create a 1x20 array using np.ones, and concatenate it to the reshaped array along the rows\n",
    "new_array = np.ones((1, 20))\n",
    "# print(\"New array:\", new_array)\n",
    "concatenated_array = np.concatenate((reshaped_array, new_array), axis=0)\n",
    "print(\"Concatenated array:\", concatenated_array)\n",
    "    "
   ]
  },
  {
   "attachments": {},
   "cell_type": "markdown",
   "metadata": {},
   "source": [
    "### 3. Logical operations and filtering"
   ]
  },
  {
   "cell_type": "code",
   "execution_count": 21,
   "metadata": {},
   "outputs": [
    {
     "name": "stdout",
     "output_type": "stream",
     "text": [
      "Array after setting elements > 50 to 50: [[50 50 50 24 49 34 12 24 46 28]\n",
      " [47 50 17 50 17 50 20 39 24 50]\n",
      " [50 42 50  8 50 50 50 33 15 50]\n",
      " [50 32 50 50 11 50  8 50 41 31]\n",
      " [12 50 50 50  4 32 28 21 47 50]\n",
      " [45 50 50 50 50 50 30  8  3 50]\n",
      " [50 33 20 35 23 50 45 50 46 50]\n",
      " [50 28 34 43 50 50 50 50 50 50]\n",
      " [ 2  9  9 17 37 50 36 33 16 40]\n",
      " [50 36 50 50 13 23 49 14 50 46]]\n"
     ]
    }
   ],
   "source": [
    "\n",
    "# (1) Use boolean indexing to find all elements greater than 50, and set them to 50\n",
    "arr = arr.copy()\n",
    "arr[arr>50]=50\n",
    "print(\"Array after setting elements > 50 to 50:\", arr)\n",
    "    "
   ]
  },
  {
   "cell_type": "code",
   "execution_count": 23,
   "metadata": {},
   "outputs": [
    {
     "name": "stdout",
     "output_type": "stream",
     "text": [
      "Even number positions: [(0, 0), (0, 1), (0, 2), (0, 3), (0, 5), (0, 6), (0, 7), (0, 8), (0, 9), (1, 1), (1, 3), (1, 5), (1, 6), (1, 8), (1, 9), (2, 0), (2, 1), (2, 2), (2, 3), (2, 4), (2, 5), (2, 6), (2, 9), (3, 0), (3, 1), (3, 2), (3, 3), (3, 5), (3, 6), (3, 7), (4, 0), (4, 1), (4, 2), (4, 3), (4, 4), (4, 5), (4, 6), (4, 9), (5, 1), (5, 2), (5, 3), (5, 4), (5, 5), (5, 6), (5, 7), (5, 9), (6, 0), (6, 2), (6, 5), (6, 7), (6, 8), (6, 9), (7, 0), (7, 1), (7, 2), (7, 4), (7, 5), (7, 6), (7, 7), (7, 8), (7, 9), (8, 0), (8, 5), (8, 6), (8, 8), (8, 9), (9, 0), (9, 1), (9, 2), (9, 3), (9, 7), (9, 8), (9, 9)]\n"
     ]
    }
   ],
   "source": [
    "\n",
    "# (2) Find the positions of all even numbers in the array\n",
    "temp=np.where(arr % 2 == 0)\n",
    "even_positions = list(zip(temp[0],temp[1]))\n",
    "print(\"Even number positions:\", even_positions)\n",
    "    "
   ]
  },
  {
   "attachments": {},
   "cell_type": "markdown",
   "metadata": {},
   "source": [
    "### 4. Linear algebra operations"
   ]
  },
  {
   "cell_type": "code",
   "execution_count": 24,
   "metadata": {},
   "outputs": [
    {
     "name": "stdout",
     "output_type": "stream",
     "text": [
      "Identity matrix: [[1. 0. 0.]\n",
      " [0. 1. 0.]\n",
      " [0. 0. 1.]]\n"
     ]
    }
   ],
   "source": [
    "\n",
    "# (1) Create a 3x3 identity matrix\n",
    "identity_matrix = np.identity(3)\n",
    "print(\"Identity matrix:\", identity_matrix)\n",
    "    "
   ]
  },
  {
   "cell_type": "code",
   "execution_count": 25,
   "metadata": {},
   "outputs": [
    {
     "name": "stdout",
     "output_type": "stream",
     "text": [
      "Random matrix: [[0.81267225 0.6117213  0.52652948]\n",
      " [0.08673711 0.19388684 0.87736609]\n",
      " [0.5606248  0.79028011 0.56405961]]\n",
      "Inverse matrix: [[ 2.5980845  -0.31612258 -1.93350636]\n",
      " [-1.97057301 -0.72608349  2.96884546]\n",
      " [ 0.17862308  1.3314825  -0.46492942]]\n"
     ]
    }
   ],
   "source": [
    "\n",
    "# (2) Create a 3x3 random matrix and compute its inverse\n",
    "random_matrix = np.random.rand(3, 3)\n",
    "inv_matrix = np.linalg.inv(random_matrix)   # Inverse of the matrix\n",
    "\n",
    "print(\"Random matrix:\", random_matrix)\n",
    "print(\"Inverse matrix:\", inv_matrix)\n",
    "    "
   ]
  },
  {
   "cell_type": "code",
   "execution_count": 28,
   "metadata": {},
   "outputs": [
    {
     "name": "stdout",
     "output_type": "stream",
     "text": [
      "Matrix product (should be close to identity matrix): [[ 1.00000000e+00  0.00000000e+00  8.32667268e-17]\n",
      " [ 0.00000000e+00  1.00000000e+00  5.55111512e-17]\n",
      " [-8.32667268e-17  0.00000000e+00  1.00000000e+00]]\n"
     ]
    }
   ],
   "source": [
    "\n",
    "# (3) Matrix multiplication\n",
    "matrix_product = np.dot(random_matrix, inv_matrix)\n",
    "print(\"Matrix product (should be close to identity matrix):\", matrix_product)\n",
    "    "
   ]
  }
 ],
 "metadata": {
  "kernelspec": {
   "display_name": "Python 3 (ipykernel)",
   "language": "python",
   "name": "python3"
  },
  "language_info": {
   "codemirror_mode": {
    "name": "ipython",
    "version": 3
   },
   "file_extension": ".py",
   "mimetype": "text/x-python",
   "name": "python",
   "nbconvert_exporter": "python",
   "pygments_lexer": "ipython3",
   "version": "3.12.3"
  },
  "vscode": {
   "interpreter": {
    "hash": "17c9cd01fc19a9a90cd2d9717ed1dc76e1753efe3a6cf374e6e0052792c70890"
   }
  }
 },
 "nbformat": 4,
 "nbformat_minor": 4
}
