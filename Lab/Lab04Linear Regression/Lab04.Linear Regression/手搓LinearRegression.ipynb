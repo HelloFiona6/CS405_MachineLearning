{
 "cells": [
  {
   "cell_type": "markdown",
   "metadata": {},
   "source": [
    "https://zhuanlan.zhihu.com/p/130746177"
   ]
  },
  {
   "cell_type": "code",
   "execution_count": null,
   "metadata": {},
   "outputs": [],
   "source": [
    "import numpy as np\n",
    "import matplotlib.pyplot as plt\n",
    "\n",
    "class LinearRegression(object):\n",
    "    \"\"\"simple linear regression & multivariate linear regression\"\"\"\n",
    "    def __init__(self):\n",
    "        self.w = 0                  #斜率\n",
    "        self.b = 0                  #截距\n",
    "        self.sqrLoss = 0            #最小均方误差\n",
    "        self.trainSet = 0           #训练集特征\n",
    "        self.label = 0              #训练集标签: y\n",
    "        self.learning_rate = None   #学习率: a\n",
    "        self.n_iters = None         #实际迭代次数\n",
    "        self.lossList = []          #梯度下降每轮迭代的误差列表\n",
    "    \n",
    "    def train(self, X, y, method, learning_rate=0.1, n_iters=1000):\n",
    "        if X.ndim < 2: # 二维数组\n",
    "            raise ValueError(\"X must be 2D array-like!\")\n",
    "        self.trainSet = X\n",
    "        self.label = y\n",
    "        if method.lower() == \"formula\": # 公式法\n",
    "            self.__train_formula()\n",
    "        elif method.lower() == \"matrix\": # 矩阵法\n",
    "            self.__train_matrix()\n",
    "        elif method.lower() == \"gradient\": # 梯度下降法\n",
    "            self.__train_gradient(learning_rate, n_iters)\n",
    "        else:\n",
    "            raise ValueError(\"method value not found!\")\n",
    "        return\n",
    "    \n",
    "    def __train_formula(self): # 公式法，只能用于一元线性回归\n",
    "        n_samples, n_features = self.trainSet.shape\n",
    "        X = self.trainSet.flatten()\n",
    "        y = self.label\n",
    "        Xmean = np.mean(X)\n",
    "        ymean = np.mean(y)\n",
    "        #求w\n",
    "        self.w = (np.dot(X, y) - n_samples*Xmean*ymean)/(np.power(X,2).sum() - n_samples*Xmean**2)\n",
    "        #求b\n",
    "        self.b = ymean - self.w*Xmean\n",
    "        #求误差\n",
    "        self.sqrLoss = np.power((y-np.dot(X,self.w) - self.b), 2).sum()\n",
    "        return"
   ]
  },
  {
   "cell_type": "markdown",
   "metadata": {},
   "source": [
    "## 公式法\n",
    "\n",
    "self.w = (np.dot(X, y) - n_samples*Xmean*ymean)/(np.power(X,2).sum() - n_samples*Xmean**2)\n",
    "$$\n",
    "\\begin{align}\n",
    "\\hat{w} &= \\frac{xy-n\\bar{x}\\bar{y}}{\\sum_{i=1}^n x_i^2-n\\bar{x}^2} \\\\ \n",
    "\\end{align}\n",
    "$$"
   ]
  },
  {
   "cell_type": "code",
   "execution_count": null,
   "metadata": {},
   "outputs": [],
   "source": []
  }
 ],
 "metadata": {
  "kernelspec": {
   "display_name": "base",
   "language": "python",
   "name": "python3"
  },
  "language_info": {
   "name": "python",
   "version": "3.12.3"
  }
 },
 "nbformat": 4,
 "nbformat_minor": 2
}
